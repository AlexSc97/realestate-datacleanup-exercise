{
  "cells": [
    {
      "attachments": {},
      "cell_type": "markdown",
      "id": "innocent-university",
      "metadata": {},
      "source": [
        "# Limpieza de bienes raíces\n",
        "\n",
        "Este es un conjunto de datos (dataset) reales que fue descargado usando técnicas de web scraping. La data contiene registros de **Fotocasa**, el cual es uno de los sitios más populares de bienes raíces en España. Por favor no hagas esto (web scraping) a no ser que sea para propósitos académicos.\n",
        "\n",
        "El dataset fue descargado hace algunos años por Henry Navarro y en ningún caso se obtuvo beneficio económico de ello.\n",
        "\n",
        "Contiene miles de datos de casas reales publicadas en la web www.fotocasa.com. Tu objetivo es extraer tanta información como sea posible con el conocimiento que tienes hasta ahora de ciencia de datos, por ejemplo ¿cuál es la casa más cara en todo el dataset?\n",
        "\n",
        "Empecemos precisamente con esa pregunta... ¡Buena suerte!"
      ]
    },
    {
      "attachments": {},
      "cell_type": "markdown",
      "id": "multiple-glass",
      "metadata": {},
      "source": [
        "#### Ejercicio 00. Lee el dataset assets/real_estate.csv e intenta visualizar la tabla (★☆☆)"
      ]
    },
    {
      "cell_type": "code",
      "execution_count": 71,
      "id": "frank-heath",
      "metadata": {},
      "outputs": [
        {
          "data": {
            "text/html": [
              "<div>\n",
              "<style scoped>\n",
              "    .dataframe tbody tr th:only-of-type {\n",
              "        vertical-align: middle;\n",
              "    }\n",
              "\n",
              "    .dataframe tbody tr th {\n",
              "        vertical-align: top;\n",
              "    }\n",
              "\n",
              "    .dataframe thead th {\n",
              "        text-align: right;\n",
              "    }\n",
              "</style>\n",
              "<table border=\"1\" class=\"dataframe\">\n",
              "  <thead>\n",
              "    <tr style=\"text-align: right;\">\n",
              "      <th></th>\n",
              "      <th>Unnamed: 0</th>\n",
              "      <th>id_realEstates</th>\n",
              "      <th>isNew</th>\n",
              "      <th>realEstate_name</th>\n",
              "      <th>phone_realEstate</th>\n",
              "      <th>url_inmueble</th>\n",
              "      <th>rooms</th>\n",
              "      <th>bathrooms</th>\n",
              "      <th>surface</th>\n",
              "      <th>price</th>\n",
              "      <th>...</th>\n",
              "      <th>level4Id</th>\n",
              "      <th>level5Id</th>\n",
              "      <th>level6Id</th>\n",
              "      <th>level7Id</th>\n",
              "      <th>level8Id</th>\n",
              "      <th>accuracy</th>\n",
              "      <th>latitude</th>\n",
              "      <th>longitude</th>\n",
              "      <th>zipCode</th>\n",
              "      <th>customZone</th>\n",
              "    </tr>\n",
              "  </thead>\n",
              "  <tbody>\n",
              "    <tr>\n",
              "      <th>0</th>\n",
              "      <td>1</td>\n",
              "      <td>153771986</td>\n",
              "      <td>False</td>\n",
              "      <td>ferrari 57 inmobiliaria</td>\n",
              "      <td>912177526.0</td>\n",
              "      <td>https://www.fotocasa.es/es/comprar/vivienda/ma...</td>\n",
              "      <td>3.0</td>\n",
              "      <td>2.0</td>\n",
              "      <td>103.0</td>\n",
              "      <td>195000</td>\n",
              "      <td>...</td>\n",
              "      <td>0</td>\n",
              "      <td>0</td>\n",
              "      <td>0</td>\n",
              "      <td>0</td>\n",
              "      <td>0</td>\n",
              "      <td>0</td>\n",
              "      <td>40,2948276786438</td>\n",
              "      <td>-3,44402412135624</td>\n",
              "      <td>NaN</td>\n",
              "      <td>NaN</td>\n",
              "    </tr>\n",
              "    <tr>\n",
              "      <th>1</th>\n",
              "      <td>2</td>\n",
              "      <td>153867863</td>\n",
              "      <td>False</td>\n",
              "      <td>tecnocasa fuenlabrada ferrocarril</td>\n",
              "      <td>916358736.0</td>\n",
              "      <td>https://www.fotocasa.es/es/comprar/vivienda/ma...</td>\n",
              "      <td>3.0</td>\n",
              "      <td>1.0</td>\n",
              "      <td>NaN</td>\n",
              "      <td>89000</td>\n",
              "      <td>...</td>\n",
              "      <td>0</td>\n",
              "      <td>0</td>\n",
              "      <td>0</td>\n",
              "      <td>0</td>\n",
              "      <td>0</td>\n",
              "      <td>1</td>\n",
              "      <td>40,28674</td>\n",
              "      <td>-3,79351</td>\n",
              "      <td>NaN</td>\n",
              "      <td>NaN</td>\n",
              "    </tr>\n",
              "    <tr>\n",
              "      <th>2</th>\n",
              "      <td>3</td>\n",
              "      <td>153430440</td>\n",
              "      <td>False</td>\n",
              "      <td>look find boadilla</td>\n",
              "      <td>916350408.0</td>\n",
              "      <td>https://www.fotocasa.es/es/comprar/vivienda/ma...</td>\n",
              "      <td>2.0</td>\n",
              "      <td>2.0</td>\n",
              "      <td>99.0</td>\n",
              "      <td>390000</td>\n",
              "      <td>...</td>\n",
              "      <td>0</td>\n",
              "      <td>0</td>\n",
              "      <td>0</td>\n",
              "      <td>0</td>\n",
              "      <td>0</td>\n",
              "      <td>0</td>\n",
              "      <td>40,4115646786438</td>\n",
              "      <td>-3,90662252135624</td>\n",
              "      <td>NaN</td>\n",
              "      <td>NaN</td>\n",
              "    </tr>\n",
              "    <tr>\n",
              "      <th>3</th>\n",
              "      <td>4</td>\n",
              "      <td>152776331</td>\n",
              "      <td>False</td>\n",
              "      <td>tecnocasa fuenlabrada ferrocarril</td>\n",
              "      <td>916358736.0</td>\n",
              "      <td>https://www.fotocasa.es/es/comprar/vivienda/ma...</td>\n",
              "      <td>3.0</td>\n",
              "      <td>1.0</td>\n",
              "      <td>86.0</td>\n",
              "      <td>89000</td>\n",
              "      <td>...</td>\n",
              "      <td>0</td>\n",
              "      <td>0</td>\n",
              "      <td>0</td>\n",
              "      <td>0</td>\n",
              "      <td>0</td>\n",
              "      <td>0</td>\n",
              "      <td>40,2853785786438</td>\n",
              "      <td>-3,79508142135624</td>\n",
              "      <td>NaN</td>\n",
              "      <td>NaN</td>\n",
              "    </tr>\n",
              "    <tr>\n",
              "      <th>4</th>\n",
              "      <td>5</td>\n",
              "      <td>153180188</td>\n",
              "      <td>False</td>\n",
              "      <td>ferrari 57 inmobiliaria</td>\n",
              "      <td>912177526.0</td>\n",
              "      <td>https://www.fotocasa.es/es/comprar/vivienda/ma...</td>\n",
              "      <td>2.0</td>\n",
              "      <td>2.0</td>\n",
              "      <td>106.0</td>\n",
              "      <td>172000</td>\n",
              "      <td>...</td>\n",
              "      <td>0</td>\n",
              "      <td>0</td>\n",
              "      <td>0</td>\n",
              "      <td>0</td>\n",
              "      <td>0</td>\n",
              "      <td>0</td>\n",
              "      <td>40,2998774864376</td>\n",
              "      <td>-3,45226301356237</td>\n",
              "      <td>NaN</td>\n",
              "      <td>NaN</td>\n",
              "    </tr>\n",
              "    <tr>\n",
              "      <th>...</th>\n",
              "      <td>...</td>\n",
              "      <td>...</td>\n",
              "      <td>...</td>\n",
              "      <td>...</td>\n",
              "      <td>...</td>\n",
              "      <td>...</td>\n",
              "      <td>...</td>\n",
              "      <td>...</td>\n",
              "      <td>...</td>\n",
              "      <td>...</td>\n",
              "      <td>...</td>\n",
              "      <td>...</td>\n",
              "      <td>...</td>\n",
              "      <td>...</td>\n",
              "      <td>...</td>\n",
              "      <td>...</td>\n",
              "      <td>...</td>\n",
              "      <td>...</td>\n",
              "      <td>...</td>\n",
              "      <td>...</td>\n",
              "      <td>...</td>\n",
              "    </tr>\n",
              "    <tr>\n",
              "      <th>15330</th>\n",
              "      <td>15331</td>\n",
              "      <td>153901377</td>\n",
              "      <td>False</td>\n",
              "      <td>infocasa consulting</td>\n",
              "      <td>911360461.0</td>\n",
              "      <td>https://www.fotocasa.es/es/comprar/vivienda/ma...</td>\n",
              "      <td>2.0</td>\n",
              "      <td>1.0</td>\n",
              "      <td>96.0</td>\n",
              "      <td>259470</td>\n",
              "      <td>...</td>\n",
              "      <td>0</td>\n",
              "      <td>0</td>\n",
              "      <td>0</td>\n",
              "      <td>0</td>\n",
              "      <td>0</td>\n",
              "      <td>0</td>\n",
              "      <td>40,45416</td>\n",
              "      <td>-3,70286</td>\n",
              "      <td>NaN</td>\n",
              "      <td>NaN</td>\n",
              "    </tr>\n",
              "    <tr>\n",
              "      <th>15331</th>\n",
              "      <td>15332</td>\n",
              "      <td>150394373</td>\n",
              "      <td>False</td>\n",
              "      <td>inmobiliaria pulpon</td>\n",
              "      <td>912788039.0</td>\n",
              "      <td>https://www.fotocasa.es/es/comprar/vivienda/ma...</td>\n",
              "      <td>3.0</td>\n",
              "      <td>1.0</td>\n",
              "      <td>150.0</td>\n",
              "      <td>165000</td>\n",
              "      <td>...</td>\n",
              "      <td>0</td>\n",
              "      <td>0</td>\n",
              "      <td>0</td>\n",
              "      <td>0</td>\n",
              "      <td>0</td>\n",
              "      <td>0</td>\n",
              "      <td>40,36652</td>\n",
              "      <td>-3,48951</td>\n",
              "      <td>NaN</td>\n",
              "      <td>NaN</td>\n",
              "    </tr>\n",
              "    <tr>\n",
              "      <th>15332</th>\n",
              "      <td>15333</td>\n",
              "      <td>153901397</td>\n",
              "      <td>False</td>\n",
              "      <td>tecnocasa torrelodones</td>\n",
              "      <td>912780348.0</td>\n",
              "      <td>https://www.fotocasa.es/es/comprar/vivienda/ma...</td>\n",
              "      <td>4.0</td>\n",
              "      <td>2.0</td>\n",
              "      <td>175.0</td>\n",
              "      <td>495000</td>\n",
              "      <td>...</td>\n",
              "      <td>0</td>\n",
              "      <td>0</td>\n",
              "      <td>0</td>\n",
              "      <td>0</td>\n",
              "      <td>0</td>\n",
              "      <td>0</td>\n",
              "      <td>40,57444</td>\n",
              "      <td>-3,92124</td>\n",
              "      <td>NaN</td>\n",
              "      <td>NaN</td>\n",
              "    </tr>\n",
              "    <tr>\n",
              "      <th>15333</th>\n",
              "      <td>15334</td>\n",
              "      <td>152607440</td>\n",
              "      <td>False</td>\n",
              "      <td>inmobiliaria pulpon</td>\n",
              "      <td>912788039.0</td>\n",
              "      <td>https://www.fotocasa.es/es/comprar/vivienda/ma...</td>\n",
              "      <td>3.0</td>\n",
              "      <td>2.0</td>\n",
              "      <td>101.0</td>\n",
              "      <td>195000</td>\n",
              "      <td>...</td>\n",
              "      <td>0</td>\n",
              "      <td>0</td>\n",
              "      <td>0</td>\n",
              "      <td>0</td>\n",
              "      <td>0</td>\n",
              "      <td>0</td>\n",
              "      <td>40,36967</td>\n",
              "      <td>-3,48105</td>\n",
              "      <td>NaN</td>\n",
              "      <td>NaN</td>\n",
              "    </tr>\n",
              "    <tr>\n",
              "      <th>15334</th>\n",
              "      <td>15335</td>\n",
              "      <td>153901356</td>\n",
              "      <td>False</td>\n",
              "      <td>infocasa consulting</td>\n",
              "      <td>911360461.0</td>\n",
              "      <td>https://www.fotocasa.es/es/comprar/vivienda/ma...</td>\n",
              "      <td>3.0</td>\n",
              "      <td>2.0</td>\n",
              "      <td>152.0</td>\n",
              "      <td>765000</td>\n",
              "      <td>...</td>\n",
              "      <td>0</td>\n",
              "      <td>0</td>\n",
              "      <td>0</td>\n",
              "      <td>0</td>\n",
              "      <td>0</td>\n",
              "      <td>0</td>\n",
              "      <td>40,45773</td>\n",
              "      <td>-3,69068</td>\n",
              "      <td>NaN</td>\n",
              "      <td>NaN</td>\n",
              "    </tr>\n",
              "  </tbody>\n",
              "</table>\n",
              "<p>15335 rows × 37 columns</p>\n",
              "</div>"
            ],
            "text/plain": [
              "       Unnamed: 0  id_realEstates  isNew                    realEstate_name  \\\n",
              "0               1       153771986  False            ferrari 57 inmobiliaria   \n",
              "1               2       153867863  False  tecnocasa fuenlabrada ferrocarril   \n",
              "2               3       153430440  False                 look find boadilla   \n",
              "3               4       152776331  False  tecnocasa fuenlabrada ferrocarril   \n",
              "4               5       153180188  False            ferrari 57 inmobiliaria   \n",
              "...           ...             ...    ...                                ...   \n",
              "15330       15331       153901377  False                infocasa consulting   \n",
              "15331       15332       150394373  False                inmobiliaria pulpon   \n",
              "15332       15333       153901397  False             tecnocasa torrelodones   \n",
              "15333       15334       152607440  False                inmobiliaria pulpon   \n",
              "15334       15335       153901356  False                infocasa consulting   \n",
              "\n",
              "       phone_realEstate                                       url_inmueble  \\\n",
              "0           912177526.0  https://www.fotocasa.es/es/comprar/vivienda/ma...   \n",
              "1           916358736.0  https://www.fotocasa.es/es/comprar/vivienda/ma...   \n",
              "2           916350408.0  https://www.fotocasa.es/es/comprar/vivienda/ma...   \n",
              "3           916358736.0  https://www.fotocasa.es/es/comprar/vivienda/ma...   \n",
              "4           912177526.0  https://www.fotocasa.es/es/comprar/vivienda/ma...   \n",
              "...                 ...                                                ...   \n",
              "15330       911360461.0  https://www.fotocasa.es/es/comprar/vivienda/ma...   \n",
              "15331       912788039.0  https://www.fotocasa.es/es/comprar/vivienda/ma...   \n",
              "15332       912780348.0  https://www.fotocasa.es/es/comprar/vivienda/ma...   \n",
              "15333       912788039.0  https://www.fotocasa.es/es/comprar/vivienda/ma...   \n",
              "15334       911360461.0  https://www.fotocasa.es/es/comprar/vivienda/ma...   \n",
              "\n",
              "       rooms  bathrooms  surface   price  ... level4Id level5Id level6Id  \\\n",
              "0        3.0        2.0    103.0  195000  ...        0        0        0   \n",
              "1        3.0        1.0      NaN   89000  ...        0        0        0   \n",
              "2        2.0        2.0     99.0  390000  ...        0        0        0   \n",
              "3        3.0        1.0     86.0   89000  ...        0        0        0   \n",
              "4        2.0        2.0    106.0  172000  ...        0        0        0   \n",
              "...      ...        ...      ...     ...  ...      ...      ...      ...   \n",
              "15330    2.0        1.0     96.0  259470  ...        0        0        0   \n",
              "15331    3.0        1.0    150.0  165000  ...        0        0        0   \n",
              "15332    4.0        2.0    175.0  495000  ...        0        0        0   \n",
              "15333    3.0        2.0    101.0  195000  ...        0        0        0   \n",
              "15334    3.0        2.0    152.0  765000  ...        0        0        0   \n",
              "\n",
              "      level7Id level8Id accuracy          latitude          longitude zipCode  \\\n",
              "0            0        0        0  40,2948276786438  -3,44402412135624     NaN   \n",
              "1            0        0        1          40,28674           -3,79351     NaN   \n",
              "2            0        0        0  40,4115646786438  -3,90662252135624     NaN   \n",
              "3            0        0        0  40,2853785786438  -3,79508142135624     NaN   \n",
              "4            0        0        0  40,2998774864376  -3,45226301356237     NaN   \n",
              "...        ...      ...      ...               ...                ...     ...   \n",
              "15330        0        0        0          40,45416           -3,70286     NaN   \n",
              "15331        0        0        0          40,36652           -3,48951     NaN   \n",
              "15332        0        0        0          40,57444           -3,92124     NaN   \n",
              "15333        0        0        0          40,36967           -3,48105     NaN   \n",
              "15334        0        0        0          40,45773           -3,69068     NaN   \n",
              "\n",
              "      customZone  \n",
              "0            NaN  \n",
              "1            NaN  \n",
              "2            NaN  \n",
              "3            NaN  \n",
              "4            NaN  \n",
              "...          ...  \n",
              "15330        NaN  \n",
              "15331        NaN  \n",
              "15332        NaN  \n",
              "15333        NaN  \n",
              "15334        NaN  \n",
              "\n",
              "[15335 rows x 37 columns]"
            ]
          },
          "execution_count": 71,
          "metadata": {},
          "output_type": "execute_result"
        }
      ],
      "source": [
        "import pandas as pd\n",
        "\n",
        "# Este archivo CSV contiene puntos y comas en lugar de comas como separadores\n",
        "ds = pd.read_csv('assets/real_estate.csv', sep=';')\n",
        "ds"
      ]
    },
    {
      "attachments": {},
      "cell_type": "markdown",
      "id": "latin-guest",
      "metadata": {},
      "source": [
        "#### Ejercicio 01. ¿Cuál es la casa más cara en todo el dataset? (★☆☆)\n",
        "\n",
        "Imprime la dirección y el precio de la casa seleccionada. Por ejemplo:\n",
        "\n",
        "`La casa con dirección en Calle del Prado, Nº20 es la más cara y su precio es de 5000000 USD`"
      ]
    },
    {
      "cell_type": "code",
      "execution_count": 72,
      "id": "developing-optimum",
      "metadata": {},
      "outputs": [
        {
          "name": "stdout",
          "output_type": "stream",
          "text": [
            "La casa con dirección en https://www.fotocasa.es/es/comprar/vivienda/villaviciosa-de-odon/aire-acondicionado-calefaccion-parking-jardin-terraza-trastero-piscina-internet/144725475/d, es la más cara y su precio es de 8500000 EUR\n"
          ]
        }
      ],
      "source": [
        "# TODO\n",
        "ds = ds.sort_values(by='price', ascending = False)\n",
        "direccion = ds.iloc[0]['url_inmueble']\n",
        "precio = ds.iloc[0]['price']\n",
        "print(f\"La casa con dirección en {direccion}, es la más cara y su precio es de {precio} EUR\")"
      ]
    },
    {
      "attachments": {},
      "cell_type": "markdown",
      "id": "lesser-cosmetic",
      "metadata": {},
      "source": [
        "#### Ejercicio 02. ¿Cuál es la casa más barata del dataset? (★☆☆)\n",
        "\n",
        "Imprime la dirección y el precio de la casa seleccionada. Por ejemplo:\n",
        "\n",
        "`La casa con dirección en Calle Alcalá, Nº58 es la más barata y su precio es de 12000 USD`"
      ]
    },
    {
      "cell_type": "code",
      "execution_count": 73,
      "id": "lovely-oasis",
      "metadata": {},
      "outputs": [
        {
          "name": "stdout",
          "output_type": "stream",
          "text": [
            "La casa con dirección en https://www.fotocasa.es/vivienda/rivas-vaciamadrid/aire-acondicionado-calefaccion-parking-jardin-terraza-trastero-zona-comunitaria-ascensor-piscina-amueblado-internet-avenida-ocho-de-marzo-14-151128371, es la más barata y tiene un precio de 0 Euros\n"
          ]
        }
      ],
      "source": [
        "# TODO\n",
        "ds = ds.sort_values(by = 'price', ascending = True)\n",
        "direccion = ds.iloc[0]['url_inmueble']\n",
        "precio = ds.iloc[0]['price']\n",
        "print(f\"La casa con dirección en {direccion}, es la más barata y tiene un precio de {precio} Euros\")"
      ]
    },
    {
      "attachments": {},
      "cell_type": "markdown",
      "id": "compliant-fellowship",
      "metadata": {},
      "source": [
        "#### Ejercicio 03. ¿Cuál es la casa más grande y la más pequeña del dataset? (★☆☆)\n",
        "\n",
        "Imprime la dirección y el área de las casas seleccionadas. Por ejemplo:\n",
        "\n",
        "`La casa más grande está ubicada en Calle Gran Vía, Nº38 y su superficie es de 5000 metros`\n",
        "\n",
        "`La casa más pequeña está ubicada en Calle Mayor, Nº12 y su superficie es de 200 metros`"
      ]
    },
    {
      "cell_type": "code",
      "execution_count": 74,
      "id": "every-tiffany",
      "metadata": {},
      "outputs": [
        {
          "name": "stdout",
          "output_type": "stream",
          "text": [
            "La casa mas grande está ubicada en https://www.fotocasa.es/es/comprar/vivienda/madrid-capital/calefaccion-terraza-ascensor/153268668/d, y su superficie es de 249000.0 metros\n",
            "La casa más pequeña está ubicada en https://www.fotocasa.es/es/comprar/vivienda/torrelodones/aire-acondicionado-calefaccion-parking-jardin-terraza-trastero-piscina-internet/152925004/d, y su superficie es de 68.0 metros\n"
          ]
        }
      ],
      "source": [
        "# TODO\n",
        "ds = ds.sort_values(by = 'surface', ascending = False)\n",
        "dir_casa_grande = ds.iloc[0]['url_inmueble']\n",
        "sup_casa_grande = ds.iloc[0]['surface']\n",
        "ds = ds.sort_values(by = 'price', ascending = True)\n",
        "dir_casa_menor = ds.iloc[0]['url_inmueble']\n",
        "sup_casa_menor = ds.iloc[0]['surface']\n",
        "print(f\"La casa mas grande está ubicada en {dir_casa_grande}, y su superficie es de {sup_casa_grande} metros\")\n",
        "print(f\"La casa más pequeña está ubicada en {dir_casa_menor}, y su superficie es de {sup_casa_menor} metros\")\n",
        "\n"
      ]
    },
    {
      "attachments": {},
      "cell_type": "markdown",
      "id": "danish-spirit",
      "metadata": {},
      "source": [
        "#### Ejercicio 04. ¿Cuantas poblaciones (columna level5) contiene el dataset? (★☆☆)\n",
        "\n",
        "Imprime el nombre de las poblaciones separadas por coma. Por ejemplo:\n",
        "\n",
        "`> print(populations)`\n",
        "\n",
        "`population1, population2, population3, ...`"
      ]
    },
    {
      "cell_type": "code",
      "execution_count": 75,
      "id": "exciting-accreditation",
      "metadata": {},
      "outputs": [
        {
          "name": "stdout",
          "output_type": "stream",
          "text": [
            " Madrid Capital, Moraleja de Enmedio, Arroyomolinos (Madrid), Pinto, Pozuelo de Alarcón, Aldea del Fresno, Getafe, San Sebastián de los Reyes, Villanueva del Pardillo, Torrejón de la Calzada, Camarma de Esteruelas, Rivas-vaciamadrid, Majadahonda, Parla, Móstoles, Brunete, Boadilla del Monte, Alcobendas, Coslada, Torrejón de Ardoz, Corpa, El Escorial, Los Santos de la Humosa, Ambite, Cenicientos, Colmenar de Oreja, Villarejo de Salvanés, Cadalso de los Vidrios, Ciempozuelos, Villalbilla, San Martín de Valdeiglesias, Villa del Prado, Villaconejos, Chinchón, Orusco de Tajuña, Robledo de Chavela, Torrelaguna, Valdaracete, Miraflores de la Sierra, San Martín de la Vega, Sevilla la Nueva, Valdemaqueda, Santa María de la Alameda, Aranjuez, Carabaña, La Hiruela, Valverde de Alcalá, Tielmes, El Molar (Madrid), Fuentidueña de Tajo, Villamanrique de Tajo, Titulcia, Fresnedillas de la Oliva, Villar del Olmo, Leganés, Moralzarzal, Garganta de los Montes, Horcajo de la Sierra, Navalcarnero, Valdilecha, Ribatejada, El Álamo, Alcalá de Henares, Pelayos de la Presa, Villamantilla, Valdeavero, Belmonte de Tajo, Chapinería, Becerril de la Sierra, Campo Real, Montejo de la Sierra, Arganda del Rey, Villamanta, Valdemoro, Valdelaguna, Morata de Tajuña, Cercedilla, San Lorenzo de El Escorial, Navalagamella, Collado Villalba, El Atazar, Galapagar, Manzanares El Real, Estremera, Humanes de Madrid, Pezuela de las Torres, Madarcos, Torres de la Alameda, Mejorada del Campo, Guadarrama, Navas del Rey, Fuenlabrada, San Agustín del Guadalix, Buitrago del Lozoya, Alcorcón, Brea de Tajo, Guadalix de la Sierra, Gargantilla del Lozoya, Los Molinos, Collado Mediano, Santorcaz, Hoyo de Manzanares, Pozuelo del Rey, San Fernando de Henares, Perales de Tajuña, Villavieja del Lozoya, Valdetorres de Jarama, Talamanca de Jarama, El Boalo - Cerceda – Mataelpino, El Vellón, Valdemorillo, Bustarviejo, Las Rozas de Madrid, La Cabrera, Velilla de San Antonio, Meco, Batres, Robregordo, Griñón, Paracuellos de Jarama, Pedrezuela, Loeches, Lozoyuela-navas-sieteiglesias, Colmenar Viejo, Gascones, Alpedrete, Fresno de Torote - Serracines, Nuevo Baztán, Valdemanco, Ajalvir, Soto del Real, Patones, Colmenarejo, Valdeolmos-Alalpardo, Cubas de la Sagra, Casarrubuelos, Zarzalejo, Torrejón de Velasco, Fuente El Saz de Jarama, Algete, Daganzo de Arriba, Valdepiélagos, Villaviciosa de Odón, Quijorna, Torrelodones, Venturada, Piñuécar-gandullas, Lozoya, Cobeña, Fresno de Torote, Tres Cantos, Villanueva de la Cañada, Redueña, Anchuelo, Puentes Viejas, Villanueva de Perales, Navacerrada, Serranillos del Valle, El Berrueco, Canencia, Braojos, Rascafría, Cabanillas de la Sierra, Colmenar del Arroyo, Torremocha de Jarama, Pinilla del Valle, Navarredonda, Navalafuente\n"
          ]
        }
      ],
      "source": [
        "# TODO\n",
        "pop = ds['level5'].dropna().unique()\n",
        "pop_sep = \", \".join(pop)\n",
        "print(pop_sep)"
      ]
    },
    {
      "attachments": {},
      "cell_type": "markdown",
      "id": "crazy-blame",
      "metadata": {},
      "source": [
        "#### Ejercicio 05. ¿El dataset contiene valores no admitidos (NAs)? (★☆☆)\n",
        "\n",
        "Imprima un booleano (`True` o `False`) seguido de la fila/columna que contiene el NAs."
      ]
    },
    {
      "cell_type": "code",
      "execution_count": 76,
      "id": "transparent-poetry",
      "metadata": {},
      "outputs": [
        {
          "name": "stdout",
          "output_type": "stream",
          "text": [
            "Las siguientes columnas contienen datos nulos \"False\": id_realEstates      False\n",
            "isNew               False\n",
            "realEstate_name      True\n",
            "phone_realEstate     True\n",
            "url_inmueble        False\n",
            "rooms                True\n",
            "bathrooms            True\n",
            "surface              True\n",
            "price               False\n",
            "date                False\n",
            "description          True\n",
            "address             False\n",
            "country             False\n",
            "level1              False\n",
            "level2              False\n",
            "level3              False\n",
            "level4               True\n",
            "level5              False\n",
            "level6               True\n",
            "level7               True\n",
            "level8               True\n",
            "upperLevel          False\n",
            "countryId           False\n",
            "level1Id            False\n",
            "level2Id            False\n",
            "level3Id            False\n",
            "level4Id            False\n",
            "level5Id            False\n",
            "level6Id            False\n",
            "level7Id            False\n",
            "level8Id            False\n",
            "accuracy            False\n",
            "latitude            False\n",
            "longitude           False\n",
            "zipCode              True\n",
            "customZone           True\n",
            "dtype: bool\n"
          ]
        }
      ],
      "source": [
        "# TODO\n",
        "ds = pd.read_csv('assets/real_estate.csv', sep=\";\", index_col=0, na_values='NA')\n",
        "celas_nulas = ds.isnull()\n",
        "nulos_seguidos = celas_nulas.shift(fill_value=False).any()\n",
        "print(f'Las siguientes columnas contienen datos nulos \"False\": {nulos_seguidos}')\n"
      ]
    },
    {
      "attachments": {},
      "cell_type": "markdown",
      "id": "italic-hydrogen",
      "metadata": {},
      "source": [
        "#### Ejercicio 06. Elimina los NAs del dataset, si aplica (★★☆)\n",
        "\n",
        "Imprima una comparación entre las dimensiones del DataFrame original versus el DataFrame después de las eliminaciones.\n"
      ]
    },
    {
      "cell_type": "code",
      "execution_count": 77,
      "id": "administrative-roads",
      "metadata": {},
      "outputs": [
        {
          "name": "stdout",
          "output_type": "stream",
          "text": [
            "Datos antes de eliminar los valores nulos NA: (15335, 36)\n",
            "Datos despues de eliminar los valores NA: (0, 36)\n",
            "Se puede observar una cantidad de datos nulos oh vácios considerable de: 15,335 \n"
          ]
        }
      ],
      "source": [
        "# TODO\n",
        "NA = ds.dropna()\n",
        "print(f\"Datos antes de eliminar los valores nulos NA: {ds.shape}\")\n",
        "print(f\"Datos despues de eliminar los valores NA: {NA.shape}\")\n",
        "print(\"Se puede observar una cantidad de datos nulos oh vácios considerable de: 15,335 \")"
      ]
    },
    {
      "attachments": {},
      "cell_type": "markdown",
      "id": "middle-china",
      "metadata": {},
      "source": [
        "#### Ejercicio 07. ¿Cuál la media de precios en la población (columna level5) de \"Arroyomolinos (Madrid)\"? (★★☆)\n",
        "\n",
        "Imprima el valor obtenido."
      ]
    },
    {
      "cell_type": "code",
      "execution_count": 78,
      "id": "nuclear-belief",
      "metadata": {},
      "outputs": [
        {
          "name": "stdout",
          "output_type": "stream",
          "text": [
            "La media de precios en la población Arroyomolinos (Madrid) es de: 294541.60 Euros.\n"
          ]
        }
      ],
      "source": [
        "# TODO\n",
        "filtro_arroyomolinos = ds['level5'] == 'Arroyomolinos (Madrid)'\n",
        "media = ds[filtro_arroyomolinos]['price'].mean()\n",
        "print(f\"La media de precios en la población Arroyomolinos (Madrid) es de: {media:.2f} Euros.\")"
      ]
    },
    {
      "attachments": {},
      "cell_type": "markdown",
      "id": "concerned-radical",
      "metadata": {},
      "source": [
        "#### Ejercicio 08. Trazar el histograma de los precios para la población (level5 column) de \"Arroyomolinos (Madrid)\" y explica qué observas (★★☆)\n",
        "\n",
        "Imprime el histograma de los precios y escribe en la celda del Markdown un breve análisis del trazado.\n"
      ]
    },
    {
      "cell_type": "code",
      "execution_count": 79,
      "id": "sudden-message",
      "metadata": {},
      "outputs": [
        {
          "data": {
            "image/png": "[encoded data removed]",
            "text/plain": [
              "<Figure size 1000x500 with 1 Axes>"
            ]
          },
          "metadata": {},
          "output_type": "display_data"
        }
      ],
      "source": [
        "# TODO: Code\n",
        "import matplotlib.pyplot as plt\n",
        "ds_arroyomolinos = ds[filtro_arroyomolinos]\n",
        "plt.figure(figsize=(10, 5))\n",
        "plt.hist(ds_arroyomolinos['price'])\n",
        "plt.title(\"Rango de precios de la poblacion Arroyosmolinos (Madrid)\")\n",
        "plt.xlabel(\"Precios 'EUR'\")\n",
        "plt.ylabel(\"Numero de inmuebles\")\n",
        "plt.show()"
      ]
    },
    {
      "attachments": {},
      "cell_type": "markdown",
      "id": "impressed-combination",
      "metadata": {},
      "source": [
        "**TODO: Markdown**. Para escribir aquí, haz doble clic en esta celda, elimina este contenido y coloca lo que quieras escribir. Luego ejecuta la celda."
      ]
    },
    {
      "attachments": {},
      "cell_type": "markdown",
      "id": "actual-edinburgh",
      "metadata": {},
      "source": [
        "#### Ejercicio 09. ¿Son los precios promedios de \"Valdemorillo\" y \"Galapagar\" los mismos? (★★☆)\n",
        "\n",
        "Imprime ambos promedios y escribe una conclusión sobre ellos."
      ]
    },
    {
      "cell_type": "code",
      "execution_count": 80,
      "id": "numeric-commerce",
      "metadata": {},
      "outputs": [
        {
          "name": "stdout",
          "output_type": "stream",
          "text": [
            "El promedio de precios de la población Valdemorillo es de: 363860.29 Euros.\n",
            "El promedio de precios de la población de Galapagar es de: 360063.20 Euros.\n",
            "Podemos observar una similitud en el rango prómedio de 38 mil euros, mostrando una diferencia de un precio máyor en la población Valdemorillo\n"
          ]
        }
      ],
      "source": [
        "# TODO\n",
        "filtro_valdemorillo = ds[ds['level5'] == 'Valdemorillo']\n",
        "promedio_valdemorillo = filtro_valdemorillo['price'].mean()\n",
        "filtro_galapagar = ds[ds['level5'] == 'Galapagar']\n",
        "promedio_galapagar = filtro_galapagar['price'].mean()\n",
        "print(f\"El promedio de precios de la población Valdemorillo es de: {promedio_valdemorillo:.2f} Euros.\")\n",
        "print(f\"El promedio de precios de la población de Galapagar es de: {promedio_galapagar:.2f} Euros.\")\n",
        "print(\"Podemos observar una similitud en el rango prómedio de 38 mil euros, mostrando una diferencia de un precio máyor en la población Valdemorillo\")\n"
      ]
    },
    {
      "attachments": {},
      "cell_type": "markdown",
      "id": "lonely-article",
      "metadata": {},
      "source": [
        "#### Ejercicio 10. ¿Son los promedios de precio por metro cuadrado (precio/m2) de \"Valdemorillo\" y \"Galapagar\" los mismos? (★★☆)\n",
        "\n",
        "Imprime ambos promedios de precio por metro cuadrado y escribe una conclusión sobre ellos.\n",
        "\n",
        "Pista: Crea una nueva columna llamada `pps` (*price per square* o precio por metro cuadrado) y luego analiza los valores."
      ]
    },
    {
      "cell_type": "code",
      "execution_count": 81,
      "id": "hourly-globe",
      "metadata": {},
      "outputs": [
        {
          "name": "stdout",
          "output_type": "stream",
          "text": [
            "El precio por métro cuadrado de la población de Valdemorillo es de: 1317.95 EUR/m²\n",
            "El precio por métro cuadrado de la población de Galapagar es de: 1606.32 EUR/m²\n",
            "El precio por metro cuadrado es mayor en la población de Galapagar, lo que indica que tiene más plusvalía con respecto a Valdemorillo\n"
          ]
        },
        {
          "name": "stderr",
          "output_type": "stream",
          "text": [
            "/tmp/ipykernel_663/4051230911.py:3: SettingWithCopyWarning: \n",
            "A value is trying to be set on a copy of a slice from a DataFrame.\n",
            "Try using .loc[row_indexer,col_indexer] = value instead\n",
            "\n",
            "See the caveats in the documentation: https://pandas.pydata.org/pandas-docs/stable/user_guide/indexing.html#returning-a-view-versus-a-copy\n",
            "  filtro_valdemorillo['precio_por_metro'] = filtro_valdemorillo['price'] / filtro_valdemorillo['surface']\n",
            "/tmp/ipykernel_663/4051230911.py:7: SettingWithCopyWarning: \n",
            "A value is trying to be set on a copy of a slice from a DataFrame.\n",
            "Try using .loc[row_indexer,col_indexer] = value instead\n",
            "\n",
            "See the caveats in the documentation: https://pandas.pydata.org/pandas-docs/stable/user_guide/indexing.html#returning-a-view-versus-a-copy\n",
            "  filtro_galapagar['pps'] = filtro_galapagar['price'] / filtro_galapagar['surface']\n"
          ]
        }
      ],
      "source": [
        "# TODO\n",
        "filtro_valdemorillo_surface = filtro_valdemorillo['surface'] # Filtramos la poblacion de Valdemorillo por superficie\n",
        "filtro_valdemorillo['precio_por_metro'] = filtro_valdemorillo['price'] / filtro_valdemorillo['surface']\n",
        "promedio_valdemorillo_metro = filtro_valdemorillo['precio_por_metro'].mean()\n",
        "print(f\"El precio por métro cuadrado de la población de Valdemorillo es de: {promedio_valdemorillo_metro:.2f} EUR/m²\")\n",
        "filtro_galapagar_surface = filtro_galapagar['surface']\n",
        "filtro_galapagar['pps'] = filtro_galapagar['price'] / filtro_galapagar['surface']\n",
        "promedio_galapagar_surface = filtro_galapagar['pps'].mean()\n",
        "print(f\"El precio por métro cuadrado de la población de Galapagar es de: {promedio_galapagar_surface:.2f} EUR/m²\")\n",
        "print(\"El precio por metro cuadrado es mayor en la población de Galapagar, lo que indica que tiene más plusvalía con respecto a Valdemorillo\")\n",
        "\n"
      ]
    },
    {
      "attachments": {},
      "cell_type": "markdown",
      "id": "pleasant-invite",
      "metadata": {},
      "source": [
        "#### Ejercicio 11. Analiza la relación entre la superficie y el precio de las casas. (★★☆)\n",
        "\n",
        "Pista: Puedes hacer un `scatter plot` y luego escribir una conclusión al respecto."
      ]
    },
    {
      "cell_type": "code",
      "execution_count": 82,
      "id": "common-drilling",
      "metadata": {},
      "outputs": [
        {
          "data": {
            "image/png": "[encoded data removed]",
            "text/plain": [
              "<Figure size 640x480 with 1 Axes>"
            ]
          },
          "metadata": {},
          "output_type": "display_data"
        },
        {
          "data": {
            "image/png": "[encoded data removed]",
            "text/plain": [
              "<Figure size 640x480 with 1 Axes>"
            ]
          },
          "metadata": {},
          "output_type": "display_data"
        }
      ],
      "source": [
        "# TODO: Código\n",
        "import matplotlib.pyplot as plt\n",
        "# Grafico de dispersión para observar la tendencia de los datos que siguen la norma relativa de precio y superficie. poblacion Valdemorillo\n",
        "plt.scatter(x = filtro_valdemorillo['price'], y = filtro_valdemorillo['surface'])\n",
        "plt.title('Relación precio por metro cuadrado, población Valdemorillo')\n",
        "plt.xlabel('Precio (EUR)')\n",
        "plt.ylabel('Superficie (m2)')\n",
        "plt.show()\n",
        "# Gráfico de dispersión Galapagar\n",
        "plt.scatter(x = filtro_galapagar['price'], y = filtro_galapagar['surface'])\n",
        "plt.title('Relación precio por metro cuadrado, población Galapagos')\n",
        "plt.xlabel('Precio (EUR)')\n",
        "plt.ylabel('Superficie (m2)')\n",
        "plt.show()"
      ]
    },
    {
      "attachments": {},
      "cell_type": "markdown",
      "id": "ahead-liquid",
      "metadata": {},
      "source": [
        "Analisis gráfico de la población de Valdemorillo.\n",
        "- Se puede observar una linea que sigue la norma precio por metro cuadrado, en donde en el rango de 0.6 se observa una curva ascendente donde el precio se mantiene en un margen minimo de cambio.\n",
        "Analsiis de gráfico de la población de Galapagos\n",
        "- Podemos observar con mayor claridad por qué el precio por métro cuadrado en la población Galapagar es más alta en relacion al precio prómedio de la población Valdemorillos, detectamos datos que se salen de la norma, especificamente uno con un valor mayor a 5,000 EUR en relación a su superficie, alterando la regla del promedio por metro cuadrado, el resto del gráfico de la población galapagar se observa una línea ascendente en relación a su precio / métro cuadrado"
      ]
    },
    {
      "attachments": {},
      "cell_type": "markdown",
      "id": "coordinate-sunrise",
      "metadata": {},
      "source": [
        "#### Ejercicio 12. ¿Cuántas agencia de bienes raíces contiene el dataset? (★★☆)\n",
        "\n",
        "Imprime el valor obtenido."
      ]
    },
    {
      "cell_type": "code",
      "execution_count": 83,
      "id": "valid-honolulu",
      "metadata": {},
      "outputs": [
        {
          "name": "stdout",
          "output_type": "stream",
          "text": [
            "En el data set hay 1821 agencias de bienes raíces\n"
          ]
        }
      ],
      "source": [
        "# TODO\n",
        "filtro_agencia = ds['realEstate_name'].nunique() # Valores unicos de las agencias \n",
        "print(f\"En el data set hay {filtro_agencia} agencias de bienes raíces\")\n"
      ]
    },
    {
      "attachments": {},
      "cell_type": "markdown",
      "id": "binding-ebony",
      "metadata": {},
      "source": [
        "#### Ejercicio 13. ¿Cuál es la población (columna level5) que contiene la mayor cantidad de casas?(★★☆)\n",
        "\n",
        "Imprima la población y el número de casas."
      ]
    },
    {
      "cell_type": "code",
      "execution_count": 84,
      "id": "static-perry",
      "metadata": {},
      "outputs": [
        {
          "name": "stdout",
          "output_type": "stream",
          "text": [
            "La población con mayor cantidad de casas es:  Madrid Capital\n"
          ]
        }
      ],
      "source": [
        "# TODO\n",
        "filtro_columnalvl5 = ds['level5'].value_counts()\n",
        "poblacion_mas_casas = filtro_columnalvl5.index[0]\n",
        "\n",
        "print(f\"La población con mayor cantidad de casas es: {poblacion_mas_casas}\")"
      ]
    },
    {
      "attachments": {},
      "cell_type": "markdown",
      "id": "entire-classification",
      "metadata": {},
      "source": [
        "#### Ejercicio 14. Ahora vamos a trabajar con el \"cinturón sur\" de Madrid. Haz un subconjunto del DataFrame original que contenga las siguientes poblaciones (columna level5): \"Fuenlabrada\", \"Leganés\", \"Getafe\", \"Alcorcón\" (★★☆)\n",
        "\n",
        "Pista: Filtra el DataFrame original usando la columna `level5` y la función `isin`."
      ]
    },
    {
      "cell_type": "code",
      "execution_count": 85,
      "id": "binary-input",
      "metadata": {},
      "outputs": [
        {
          "name": "stdout",
          "output_type": "stream",
          "text": [
            "       id_realEstates  isNew                            realEstate_name  \\\n",
            "2           153867863  False          tecnocasa fuenlabrada ferrocarril   \n",
            "4           152776331  False          tecnocasa fuenlabrada ferrocarril   \n",
            "86          153152077  False                    sinergical inmobiliaria   \n",
            "95          153995577  False                            viviendas365com   \n",
            "110         153586414  False            area uno asesores inmobiliarios   \n",
            "...               ...    ...                                        ...   \n",
            "15276       153903887  False  aliseda servicios de gestion inmobiliaria   \n",
            "15292       151697757  False                                    unipiso   \n",
            "15306       153902389  False                             jadein ferrero   \n",
            "15323       153871864  False                          gestion comercial   \n",
            "15326       153901467  False                              montehogar 68   \n",
            "\n",
            "       phone_realEstate                                       url_inmueble  \\\n",
            "2           916358736.0  https://www.fotocasa.es/es/comprar/vivienda/ma...   \n",
            "4           916358736.0  https://www.fotocasa.es/es/comprar/vivienda/ma...   \n",
            "86                  NaN  https://www.fotocasa.es/es/comprar/vivienda/le...   \n",
            "95          911226014.0  https://www.fotocasa.es/es/comprar/vivienda/le...   \n",
            "110         912664081.0  https://www.fotocasa.es/es/comprar/vivienda/ma...   \n",
            "...                 ...                                                ...   \n",
            "15276       911368198.0  https://www.fotocasa.es/es/comprar/vivienda/al...   \n",
            "15292       912788631.0  https://www.fotocasa.es/es/comprar/vivienda/al...   \n",
            "15306       914871639.0  https://www.fotocasa.es/es/comprar/vivienda/ma...   \n",
            "15323       911220662.0  https://www.fotocasa.es/es/comprar/vivienda/ma...   \n",
            "15326       911790675.0  https://www.fotocasa.es/es/comprar/vivienda/ma...   \n",
            "\n",
            "       rooms  bathrooms  surface   price                          date  ...  \\\n",
            "2        3.0        1.0      NaN   89000  2019-12-28T18:27:15.9975027Z  ...   \n",
            "4        3.0        1.0     86.0   89000  2019-12-28T18:27:15.9975027Z  ...   \n",
            "86       1.0        1.0     50.0  107000   2019-12-28T18:30:53.960102Z  ...   \n",
            "95       3.0        2.0    120.0  320000   2019-12-28T18:30:53.960102Z  ...   \n",
            "110      3.0        3.0    142.0  425000  2019-12-28T18:32:32.5337942Z  ...   \n",
            "...      ...        ...      ...     ...                           ...  ...   \n",
            "15276    3.0        1.0     78.0  138000          2019-12-17T19:02:00Z  ...   \n",
            "15292    3.0        2.0    110.0  279000          2019-12-17T18:57:00Z  ...   \n",
            "15306    3.0        2.0     85.0  170000          2019-12-17T18:43:00Z  ...   \n",
            "15323    3.0        1.0     91.0  112000          2019-12-17T18:25:00Z  ...   \n",
            "15326    2.0        2.0     99.0  215000          2019-12-17T18:24:00Z  ...   \n",
            "\n",
            "      level4Id level5Id level6Id level7Id level8Id accuracy          latitude  \\\n",
            "2            0        0        0        0        0        1          40,28674   \n",
            "4            0        0        0        0        0        0  40,2853785786438   \n",
            "86           0        0        0        0        0        1          40,35059   \n",
            "95           0        0        0        0        0        0          40,31933   \n",
            "110          0        0        0        0        0        0        40,3313411   \n",
            "...        ...      ...      ...      ...      ...      ...               ...   \n",
            "15276        0        0        0        0        0        1          40,31381   \n",
            "15292        0        0        0        0        0        0        40,3259051   \n",
            "15306        0        0        0        0        0        0        40,2882193   \n",
            "15323        0        0        0        0        0        0          40,28282   \n",
            "15326        0        0        0        0        0        1          40,28062   \n",
            "\n",
            "               longitude zipCode customZone  \n",
            "2               -3,79351     NaN        NaN  \n",
            "4      -3,79508142135624     NaN        NaN  \n",
            "86              -3,82693     NaN        NaN  \n",
            "95              -3,77574     NaN        NaN  \n",
            "110           -3,8313868     NaN        NaN  \n",
            "...                  ...     ...        ...  \n",
            "15276           -3,83733     NaN        NaN  \n",
            "15292           -3,76318     NaN        NaN  \n",
            "15306         -3,8098617     NaN        NaN  \n",
            "15323           -3,78892     NaN        NaN  \n",
            "15326           -3,79869     NaN        NaN  \n",
            "\n",
            "[907 rows x 36 columns]\n"
          ]
        }
      ],
      "source": [
        "# TODO\n",
        "filtro_cinturon_sur = ['Fuenlabrada', 'Leganés', 'Getafe', 'Alcorcón'] # Genero un array para trabajar exactamente con los datos que ocupo\n",
        "nuevo_dataframe_cinturon_sur = ds[ds['level5'].isin(filtro_cinturon_sur)] # Nuevo data frame filtrando solo las poblaciones que me interesan\n",
        "print(nuevo_dataframe_cinturon_sur)\n",
        "\n"
      ]
    },
    {
      "attachments": {},
      "cell_type": "markdown",
      "id": "severe-fisher",
      "metadata": {},
      "source": [
        "#### Ejercicio 15. Traza un gráfico de barras de la mediana de los precios y explica lo que observas (debes usar el subconjunto obtenido del Ejercicio 14) (★★★)\n",
        "\n",
        "Imprima un gráfico de barras de la mediana de precios y escriba en la celda Markdown un breve análisis sobre el gráfico."
      ]
    },
    {
      "cell_type": "code",
      "execution_count": 86,
      "id": "lyric-bunch",
      "metadata": {},
      "outputs": [
        {
          "data": {
            "image/png": "[encoded data removed]",
            "text/plain": [
              "<Figure size 640x480 with 1 Axes>"
            ]
          },
          "metadata": {},
          "output_type": "display_data"
        }
      ],
      "source": [
        "# TODO: Code\n",
        "filtro_precio_sur = nuevo_dataframe_cinturon_sur.groupby('level5')['price'].mean()\n",
        "plt.bar(filtro_precio_sur.index, filtro_precio_sur.values)\n",
        "plt.xlabel('Población')\n",
        "plt.ylabel('Precios (EUR)')\n",
        "plt.title('Precios promedios para las poblaciones')\n",
        "plt.show()"
      ]
    },
    {
      "attachments": {},
      "cell_type": "markdown",
      "id": "sublime-newspaper",
      "metadata": {},
      "source": [
        "**TODO: Markdown**. \n",
        "El gráfico muestra los precios promedios para las poblaciones del cinturón sur ( Alcorcón, Fuenlabrada, Getafe, Leganés), donde podemos una media de precio mas eleveada para la poblacion de Getafe, para la población de Alrcocón y Leganés se observa una lgera varianza de precio, pero manteniendo una media similar, visualizando Alcorcón mas arriba en la media. \n",
        "En cuanto a la población de Fuelabrada es más asequible en relación a la media de precios con respecto a las demas poblaciones del cinturón sur"
      ]
    },
    {
      "attachments": {},
      "cell_type": "markdown",
      "id": "speaking-diamond",
      "metadata": {},
      "source": [
        "#### Ejercicio 16. Calcula la media y la varianza de muestra para las siguientes variables: precio, habitaciones, superficie y baños (debes usar el subconjunto obtenido del Ejercicio 14) (★★★)\n",
        "\n",
        "Imprime ambos valores por cada variable."
      ]
    },
    {
      "cell_type": "code",
      "execution_count": 87,
      "id": "random-feeling",
      "metadata": {},
      "outputs": [
        {
          "name": "stdout",
          "output_type": "stream",
          "text": [
            "La media de las poblaciones del cinturón sur son:\n",
            "                      price     rooms     surface  bathrooms\n",
            "level5                                                     \n",
            "Alcorcón     230071.052632  2.914894  105.913295   1.623656\n",
            "Fuenlabrada  177198.021459  3.025974  103.624365   1.445415\n",
            "Getafe       265040.500000  3.151724  126.896266   1.865052\n",
            "Leganés      208682.010309  2.906736  105.852273   1.518135\n",
            "La varianza de las poblaciones del cinturón sur son:\n",
            "                     price     rooms      surface  bathrooms\n",
            "level5                                                     \n",
            "Alcorcón     1.594783e+10  0.933895  4244.323834   0.592735\n",
            "Fuenlabrada  4.701021e+09  0.355844  2264.643893   0.353367\n",
            "Getafe       2.098267e+10  0.772748  5828.110028   0.658809\n",
            "Leganés      1.191394e+10  0.824590  3987.475195   0.553055 \n"
          ]
        }
      ],
      "source": [
        "# TODO\n",
        "filtro_media_varianza = ['price', 'rooms', 'surface', 'bathrooms'] # Creamos un array para trabajar exactamente con lo que se solicita en este ejercicio, price, \"rooms, surface, bathrooms\"\n",
        "estadisticas_poblacion_sur_mean = nuevo_dataframe_cinturon_sur.groupby('level5')[filtro_media_varianza].mean()\n",
        "estadisticas_poblacion_sur_var = nuevo_dataframe_cinturon_sur.groupby('level5')[filtro_media_varianza].var()\n",
        "print(f\"La media de las poblaciones del cinturón sur son:\\n {estadisticas_poblacion_sur_mean}\")\n",
        "print(f\"La varianza de las poblaciones del cinturón sur son:\\n {estadisticas_poblacion_sur_var} \")"
      ]
    },
    {
      "attachments": {},
      "cell_type": "markdown",
      "id": "revolutionary-matrix",
      "metadata": {},
      "source": [
        "#### Ejercicio 17. ¿Cuál es la casa más cara de cada población? Debes usar el subset obtenido en la pregunta 14 (★★☆)\n",
        "\n",
        "Imprime tanto la dirección como el precio de la casa seleccionada de cada población. Puedes imprimir un DataFrame o una sola línea para cada población."
      ]
    },
    {
      "cell_type": "code",
      "execution_count": 88,
      "id": "fifteen-browse",
      "metadata": {},
      "outputs": [
        {
          "name": "stdout",
          "output_type": "stream",
          "text": [
            "     level5                                                                                                                                                         url_inmueble   price\n",
            "     Getafe https://www.fotocasa.es/es/comprar/vivienda/madrid-capital/aire-acondicionado-calefaccion-zona-comunitaria-ascensor-amueblado-parking-television-piscina/153996787/d 1050000\n",
            "   Alcorcón                                                        https://www.fotocasa.es/es/comprar/vivienda/cadalso-de-los-vidrios/parking-terraza-trastero-patio/153985937/d  950000\n",
            "    Leganés                                                                                     https://www.fotocasa.es/es/comprar/vivienda/collado-villalba/terraza/153556777/d  650000\n",
            "Fuenlabrada                  https://www.fotocasa.es/es/comprar/vivienda/valdemoro/aire-acondicionado-calefaccion-parking-trastero-zona-comunitaria-ascensor-piscina/153620516/d  490000\n"
          ]
        }
      ],
      "source": [
        "# TODO nuevo_dataframe_cinturon_sur -- Contiene las poblaciones cinturon sur.\n",
        "casa_mas_cara = nuevo_dataframe_cinturon_sur.groupby('level5')['price'].idxmax()\n",
        "filtro_loc = nuevo_dataframe_cinturon_sur.loc[casa_mas_cara]\n",
        "filtro_loc_orden = filtro_loc.sort_values(by = 'price', ascending = False)\n",
        "array_orden = ['level5', 'url_inmueble', 'price']\n",
        "print((filtro_loc_orden[array_orden].to_string(index = False)))"
      ]
    },
    {
      "attachments": {},
      "cell_type": "markdown",
      "id": "activated-knight",
      "metadata": {},
      "source": [
        "#### Ejercicio 18. Normaliza la variable de precios para cada población y traza los 4 histogramas en el mismo gráfico (debes usar el subconjunto obtenido en la pregunta 14) (★★★)\n",
        "\n",
        "Para el método de normalización, puedes usar el que consideres adecuado, no hay una única respuesta correcta para esta pregunta. Imprime el gráfico y escribe en la celda de Markdown un breve análisis sobre el gráfico.\n",
        "\n",
        "Pista: Puedes ayudarte revisando la demostración multihist de Matplotlib."
      ]
    },
    {
      "cell_type": "code",
      "execution_count": 100,
      "id": "civic-meditation",
      "metadata": {},
      "outputs": [
        {
          "data": {
            "image/png": "[encoded data removed]",
            "text/plain": [
              "<Figure size 1200x700 with 1 Axes>"
            ]
          },
          "metadata": {},
          "output_type": "display_data"
        }
      ],
      "source": [
        "# TODO nuevo_dataframe_cinturon_sur Poblaciones filtradas cinturon sur \n",
        "nuevo_dataframe_cinturon_sur = nuevo_dataframe_cinturon_sur.dropna(subset = 'price') # elimino los valores nulos de la columna price para evitar problemas en la ecuacion min-max\n",
        "filtro_cinturon_sur = ['Fuenlabrada', 'Leganés', 'Getafe', 'Alcorcón']\n",
        "fig , ax = plt.subplots(figsize = (12, 7))\n",
        "\n",
        "for x in filtro_cinturon_sur:\n",
        "    filtro_poblacion = nuevo_dataframe_cinturon_sur[nuevo_dataframe_cinturon_sur['level5'] == x] # Iteramos para cada poblacion del dataframe cinturon sur x veces, es decir se va a iterar 4 veces\n",
        "    precio = filtro_poblacion['price'] # De cada iteracion obtengo la columna de precios\n",
        "\n",
        "    precio_minimo = precio.min() # Para esa columna de precios de x poblacion obtengo el valor minimo\n",
        "    precio_maximo = precio.max() # Para esa columna de precios ded x poblacion obtengo el valor maximo\n",
        "    if (precio_maximo - precio_minimo) == 0:\n",
        "            ecuacion_min_max = 0.0\n",
        "    else:\n",
        "            ecuacion_min_max = (precio - precio_minimo) / (precio_maximo - precio_minimo)\n",
        "\n",
        "    ecuacion_min_max = (precio - precio_minimo) / (precio_maximo - precio_minimo) # obtengo la normalizacion para la poblacion X min-max\n",
        "\n",
        "    # Agregamos los datos al histograma se ejecutara x veces\n",
        "    ax.hist(ecuacion_min_max, bins = 25, alpha = 0.6, label = x, density = True)\n",
        "ax.set_title('Normalizacion de precios utilizando el metodo min - max')\n",
        "ax.set_xlabel('Precio normalizado: 0 = minimo de la poblacion, 1 = maximo de la poblacion')\n",
        "ax.set_ylabel('Frecuencia')\n",
        "ax.legend(title  = ' Poblacion cinturon sur ')\n",
        "plt.tight_layout()\n"
      ]
    },
    {
      "attachments": {},
      "cell_type": "markdown",
      "id": "precise-heavy",
      "metadata": {},
      "source": [
        "- Para hacer la normalizacion de las variables de precios, utilize el metodo min - max, ya que los valores medios de los précios de la población Getafe son exponenciales en relacion a los de Fuenlabranda y compararlos directamente resultaría visualmente complicado, la idea del metodo min - max es representar los valores en el rango de 0 y 1, donde 0 es valor de la casa más barata correspondiente a cada población, que esta representada por un color especifico, el valor 1 corresponde a la casa más cara de cada población.\n",
        "- En el gráfico podemos observar una concentración del mayor numeros de casas con los precios mas equilibrados en la poblacion Alcorcón, y en general la mayor concentración de casas con précios mas asequibles las encontramos en el rando de 0 a 0.4, manteniendo la mayoria de precios de las casas en esos intervalos"
      ]
    },
    {
      "attachments": {},
      "cell_type": "markdown",
      "id": "patent-jonathan",
      "metadata": {},
      "source": [
        "#### Ejercicio 19. ¿Qué puedes decir sobre el precio por metro cuadrado (precio/m2) entre los municipios de 'Getafe' y 'Alcorcón'? Debes usar el subconjunto obtenido en la pregunta 14 (★★☆)\n",
        "\n",
        "Pista: Crea una nueva columna llamada `pps` (price per square en inglés) y luego analiza los valores"
      ]
    },
    {
      "cell_type": "code",
      "execution_count": 156,
      "id": "initial-liverpool",
      "metadata": {},
      "outputs": [
        {
          "name": "stdout",
          "output_type": "stream",
          "text": [
            "La media de precio/m2 para la población de Getafe es: 2066.31 EUR \n",
            "La media de precio/m2 de la población de Alcorcón es: 2239.30 EUR\n",
            "Podemos observar una diferencia de aproximadamente 200 EUR entre ambas poblaciones, manteniendo un precio/m2 ligeramente superior en la poblacion de Alcorcón\n"
          ]
        },
        {
          "name": "stderr",
          "output_type": "stream",
          "text": [
            "/tmp/ipykernel_663/2578519847.py:7: SettingWithCopyWarning: \n",
            "A value is trying to be set on a copy of a slice from a DataFrame.\n",
            "Try using .loc[row_indexer,col_indexer] = value instead\n",
            "\n",
            "See the caveats in the documentation: https://pandas.pydata.org/pandas-docs/stable/user_guide/indexing.html#returning-a-view-versus-a-copy\n",
            "  pps_g['precio_m2'] = pps_g['price'] / pps_g['surface']\n",
            "/tmp/ipykernel_663/2578519847.py:14: SettingWithCopyWarning: \n",
            "A value is trying to be set on a copy of a slice from a DataFrame.\n",
            "Try using .loc[row_indexer,col_indexer] = value instead\n",
            "\n",
            "See the caveats in the documentation: https://pandas.pydata.org/pandas-docs/stable/user_guide/indexing.html#returning-a-view-versus-a-copy\n",
            "  pps_a['precio_m2'] = pps_a['price'] / pps_a['surface']\n"
          ]
        }
      ],
      "source": [
        "# TODO\n",
        "\n",
        "\n",
        "# Media para Getafe\n",
        "pps_g = nuevo_dataframe_cinturon_sur[nuevo_dataframe_cinturon_sur['level5'] == 'Getafe'] # surface, price\n",
        "filtro_surface = pps_g['surface'] # Filtrado por superficie poblacion Getafe\n",
        "pps_g['precio_m2'] = pps_g['price'] / pps_g['surface']\n",
        "media_g = pps_g['precio_m2'].mean()\n",
        "\n",
        "# Media para Alcorcon\n",
        "\n",
        "pps_a = nuevo_dataframe_cinturon_sur[nuevo_dataframe_cinturon_sur['level5'] == 'Alcorcón'] # surface, price\n",
        "filtro_surface = pps_a['surface'] # Filtrado por superficie poblacion Alcorcon\n",
        "pps_a['precio_m2'] = pps_a['price'] / pps_a['surface']\n",
        "media_a = pps_a['precio_m2'].mean()\n",
        "\n",
        "print(f\"La media de precio/m2 para la población de Getafe es: {media_g:.2f} EUR \\nLa media de precio/m2 de la población de Alcorcón es: {media_a:.2f} EUR\")\n",
        "print(\"Podemos observar una diferencia de aproximadamente 200 EUR entre ambas poblaciones, manteniendo un precio/m2 ligeramente superior en la poblacion de Alcorcón\")\n",
        "\n",
        "\n",
        "\n",
        "\n"
      ]
    },
    {
      "attachments": {},
      "cell_type": "markdown",
      "id": "enhanced-moscow",
      "metadata": {},
      "source": [
        "#### Ejercicio 20. Realiza el mismo gráfico para 4 poblaciones diferentes (columna level5) y colócalos en el mismo gráfico. Debes usar el subconjunto obtenido en la pregunta 14 (★★☆) \n",
        "Pista: Haz un diagrama de dispersión de cada población usando subgráficos (subplots)."
      ]
    },
    {
      "cell_type": "code",
      "execution_count": 154,
      "id": "accepting-airfare",
      "metadata": {},
      "outputs": [
        {
          "name": "stdout",
          "output_type": "stream",
          "text": [
            "[np.float64(1796.7292204509408), np.float64(2047.5032681595032), np.float64(2066.314949251463), np.float64(2239.302480199618)]\n"
          ]
        },
        {
          "data": {
            "image/png": "[encoded data removed]",
            "text/plain": [
              "<Figure size 700x600 with 1 Axes>"
            ]
          },
          "metadata": {},
          "output_type": "display_data"
        }
      ],
      "source": [
        "# TODO nuevo_dataframe_cinturon_sur\n",
        "array = ['Fuenlabrada', 'Leganés', 'Getafe', 'Alcorcón']\n",
        "media_poblaciones = []\n",
        "for x in array: # Iteramos para obtener la media de precio/m2 de cada una de las poblaciones\n",
        "    pps = nuevo_dataframe_cinturon_sur[nuevo_dataframe_cinturon_sur['level5'] == x] # Ciclo de iteracion iterara x para cada una de las poblaciones dentro del array (Que son el cinturon del sur)\n",
        "    #Elimino valores nulos para evitar divisiones entre 0\n",
        "    pps = pps.dropna(subset = ['price', 'surface'])\n",
        "    pps = pps[pps['surface'] > 0]\n",
        "\n",
        "    pps['precio_m2'] = pps['price'] / pps['surface'] # Obtengo una relacion de precio por metro 2 dividiendo el precio de esa iteracion por la superficie de esa iteracion   \n",
        "    media = pps['precio_m2'].mean() # finalmente obtengo la media de los valores que se almacenaran en otro nuevo data frame, se obtiene cada media de cada poblacion que se especifica en el array\n",
        "\n",
        "    media_poblaciones.append(media)\n",
        "print(media_poblaciones)\n",
        "plt.figure(figsize = (7, 6))\n",
        "plt.scatter(array, media_poblaciones, s=100, c='blue')\n",
        "plt.xlabel(\"Poblaciónes Cinturón Sur\")\n",
        "plt.ylabel('Media de precio/m2')\n",
        "plt.title(\"Media de precio/m2 para las poblaciones de Cinturón del sur\")\n",
        "plt.grid(True, linestyle='--', alpha=0.6)\n",
        "plt.show()"
      ]
    },
    {
      "attachments": {},
      "cell_type": "markdown",
      "id": "blocked-effects",
      "metadata": {},
      "source": [
        "#### Ejercicio 21. Realiza un trazado de las coordenadas (columnas latitud y longitud) del cinturón sur de Madrid por color de cada población (debes usar el subconjunto obtenido del Ejercicio 14) (★★★★)\n",
        "\n",
        "Ejecuta la siguiente celda y luego comienza a codear en la siguiente. Debes implementar un código simple que transforme las columnas de coordenadas en un diccionario de Python (agrega más información si es necesario) y agrégala al mapa."
      ]
    },
    {
      "cell_type": "code",
      "execution_count": 173,
      "id": "headed-privacy",
      "metadata": {},
      "outputs": [
        {
          "data": {
            "application/vnd.jupyter.widget-view+json": {
              "model_id": "92bd8d168c704b57b5a9094782da08d5",
              "version_major": 2,
              "version_minor": 0
            },
            "text/plain": [
              "Map(center=[40.35, -3.8], controls=(ZoomControl(options=['position', 'zoom_in_text', 'zoom_in_title', 'zoom_ou…"
            ]
          },
          "execution_count": 173,
          "metadata": {},
          "output_type": "execute_result"
        }
      ],
      "source": [
        "from ipyleaflet import Map, basemaps\n",
        "\n",
        "# Mapa centrado en Madrid\n",
        "map = Map(center = (40.35, -3.8), zoom = 11.5, min_zoom = 1, max_zoom = 20, \n",
        "    basemap=basemaps.OpenStreetMap.Mapnik)\n",
        "map"
      ]
    },
    {
      "cell_type": "code",
      "execution_count": 185,
      "id": "present-mistress",
      "metadata": {},
      "outputs": [
        {
          "data": {
            "application/vnd.jupyter.widget-view+json": {
              "model_id": "ac31e8193e9b40efb816ba9ed9d97a25",
              "version_major": 2,
              "version_minor": 0
            },
            "text/plain": [
              "Map(center=[40.32, -3.8], controls=(ZoomControl(options=['position', 'zoom_in_text', 'zoom_in_title', 'zoom_ou…"
            ]
          },
          "metadata": {},
          "output_type": "display_data"
        }
      ],
      "source": [
        "## Aquí: traza la coordenadas de los estados\n",
        "\n",
        "## PON TU CÓDIGO AQUÍ:\n",
        " # Limpieza de coordenadas: reemplazar comas por puntos y convertir a número\n",
        "from ipyleaflet import Map, basemaps, CircleMarker\n",
        "from IPython.display import display\n",
        "\n",
        "    \n",
        "df_mapa = nuevo_dataframe_cinturon_sur.copy()\n",
        "df_mapa['latitude'] = pd.to_numeric(df_mapa['latitude'].str.replace(',', '.'), errors='coerce')\n",
        "df_mapa['longitude'] = pd.to_numeric(df_mapa['longitude'].str.replace(',', '.'), errors='coerce')\n",
        "    \n",
        "df_mapa.dropna(subset=['latitude', 'longitude'], inplace=True)\n",
        "\n",
        "mapa_sur = Map(\n",
        "    center=(40.32, -3.8), \n",
        "    zoom=11, \n",
        "    basemap=basemaps.OpenStreetMap.Mapnik\n",
        ")\n",
        "\n",
        "    \n",
        "colores = {\n",
        "    'Getafe': 'blue',\n",
        "    'Alcorcón': 'red',\n",
        "    'Leganés': 'green',\n",
        "    'Fuenlabrada': 'purple'\n",
        "    }\n",
        "\n",
        "    \n",
        "for index, row in df_mapa.iterrows():\n",
        "    marcador = CircleMarker(\n",
        "        location=(row['latitude'], row['longitude']),\n",
        "        radius=3, # Tamaño del punto\n",
        "        color=colores.get(row['level5'], 'grey'), # Asigna color según la población\n",
        "        fill_color=colores.get(row['level5'], 'grey'),\n",
        "        fill_opacity=0.7\n",
        "    )\n",
        "    mapa_sur.add_layer(marcador)\n",
        "\n",
        "display(mapa_sur)"
      ]
    }
  ],
  "metadata": {
    "kernelspec": {
      "display_name": "Python 3",
      "language": "python",
      "name": "python3"
    },
    "language_info": {
      "codemirror_mode": {
        "name": "ipython",
        "version": 3
      },
      "file_extension": ".py",
      "mimetype": "text/x-python",
      "name": "python",
      "nbconvert_exporter": "python",
      "pygments_lexer": "ipython3",
      "version": "3.11.4"
    }
  },
  "nbformat": 4,
  "nbformat_minor": 5
}
